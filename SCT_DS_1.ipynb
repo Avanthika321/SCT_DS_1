{
  "cells": [
    {
      "cell_type": "code",
      "execution_count": null,
      "metadata": {
        "id": "nPnVYCTvrbWB"
      },
      "outputs": [],
      "source": [
        "import pandas as pd\n",
        "df=pd.read_csv(\"API_SP.POP.TOTL_DS2_en_csv_v2_38144.csv\",skiprows=4)\n",
        "df.head()"
      ]
    },
    {
      "cell_type": "code",
      "source": [
        "india=df[df['Country Name']=='India']\n",
        "india"
      ],
      "metadata": {
        "collapsed": true,
        "id": "aLyrRMKH32bm"
      },
      "execution_count": null,
      "outputs": []
    },
    {
      "cell_type": "code",
      "source": [
        "years=[str(y) for y in range(2010,2025)]\n",
        "population=india[years].values.flatten().tolist()\n",
        "print(\"Years:\",years)\n",
        "print(\"Population:\",population)"
      ],
      "metadata": {
        "id": "nCSDgz_o4IFB"
      },
      "execution_count": null,
      "outputs": []
    },
    {
      "cell_type": "code",
      "source": [
        "import matplotlib.pyplot as plt\n",
        "\n",
        "plt.figure(figsize=(10,6))\n",
        "plt.bar(years, population, color='skyblue')\n",
        "\n",
        "plt.title(\"India's Total Population (2010–2024)\", fontsize=14)\n",
        "plt.xlabel(\"Year\", fontsize=12)\n",
        "plt.ylabel(\"Population\", fontsize=12)\n",
        "plt.xticks(rotation=45)\n",
        "\n",
        "for i in range(len(population)):\n",
        "    plt.text(i, population[i]+1e7, f\"{int(population[i]/1e7)} Cr\", ha='center', fontsize=10)\n",
        "\n",
        "plt.tight_layout()\n",
        "plt.grid(axis='y', linestyle='--', alpha=0.6)\n",
        "plt.show()"
      ],
      "metadata": {
        "id": "oHkJc-nd4v_U"
      },
      "execution_count": null,
      "outputs": []
    }
  ],
  "metadata": {
    "colab": {
      "provenance": []
    },
    "kernelspec": {
      "display_name": "Python 3",
      "name": "python3"
    },
    "language_info": {
      "name": "python"
    }
  },
  "nbformat": 4,
  "nbformat_minor": 0
}